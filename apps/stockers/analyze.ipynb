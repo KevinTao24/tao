{
 "cells": [
  {
   "cell_type": "code",
   "execution_count": 23,
   "id": "b8357af1-5906-45dc-a448-e27b6428c935",
   "metadata": {},
   "outputs": [],
   "source": [
    "import os\n",
    "import sys\n",
    "\n",
    "import akshare as ak\n",
    "\n",
    "parent_path = os.path.abspath(os.path.join(os.getcwd(), \"..\"))\n",
    "sys.path.append(parent_path)\n",
    "\n",
    "from stockers.analyze import analyze_etfs, analyze_stocks"
   ]
  },
  {
   "cell_type": "code",
   "execution_count": null,
   "id": "31536a78-b549-420d-b964-f7a25cf6e418",
   "metadata": {},
   "outputs": [],
   "source": []
  },
  {
   "cell_type": "code",
   "execution_count": null,
   "id": "2d276fd8-85cc-4350-bb86-d89a4114d6b9",
   "metadata": {},
   "outputs": [],
   "source": []
  }
 ],
 "metadata": {
  "kernelspec": {
   "display_name": "Python 3 (ipykernel)",
   "language": "python",
   "name": "python3"
  },
  "language_info": {
   "codemirror_mode": {
    "name": "ipython",
    "version": 3
   },
   "file_extension": ".py",
   "mimetype": "text/x-python",
   "name": "python",
   "nbconvert_exporter": "python",
   "pygments_lexer": "ipython3",
   "version": "3.11.10"
  }
 },
 "nbformat": 4,
 "nbformat_minor": 5
}
